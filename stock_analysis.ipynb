# Print the output
print("Stock Analysis file")
